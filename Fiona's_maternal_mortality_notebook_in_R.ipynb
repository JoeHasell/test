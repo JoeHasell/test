{
  "nbformat": 4,
  "nbformat_minor": 0,
  "metadata": {
    "colab": {
      "name": "Fiona's maternal mortality notebook in R.ipynb",
      "provenance": [],
      "collapsed_sections": [],
      "include_colab_link": true
    },
    "kernelspec": {
      "name": "ir",
      "display_name": "R"
    },
    "language_info": {
      "name": "R"
    }
  },
  "cells": [
    {
      "cell_type": "markdown",
      "metadata": {
        "id": "view-in-github",
        "colab_type": "text"
      },
      "source": [
        "<a href=\"https://colab.research.google.com/github/JoeHasell/test/blob/main/Fiona's_maternal_mortality_notebook_in_R.ipynb\" target=\"_parent\"><img src=\"https://colab.research.google.com/assets/colab-badge.svg\" alt=\"Open In Colab\"/></a>"
      ]
    },
    {
      "cell_type": "code",
      "execution_count": null,
      "metadata": {
        "id": "5aRk82G8awAH"
      },
      "outputs": [],
      "source": [
        "R.version.string\n",
        "\n",
        "print(installed.packages())"
      ]
    },
    {
      "cell_type": "markdown",
      "source": [
        "Some new text"
      ],
      "metadata": {
        "id": "3EbYje4L8O8g"
      }
    },
    {
      "cell_type": "code",
      "source": [
        "install.packages(\"janitor\")\n",
        "\n",
        "library(readxl)\n",
        "library(dplyr)\n",
        "library(janitor)\n",
        "library(tidyr)\n",
        "library(ggplot2)\n",
        "date <- Sys.Date()"
      ],
      "metadata": {
        "colab": {
          "base_uri": "https://localhost:8080/"
        },
        "id": "uwwGw7LFbKuh",
        "outputId": "88990f44-b2fa-49cf-f454-f3e8e2a9c3db"
      },
      "execution_count": null,
      "outputs": [
        {
          "output_type": "stream",
          "name": "stderr",
          "text": [
            "Installing package into ‘/usr/local/lib/R/site-library’\n",
            "(as ‘lib’ is unspecified)\n",
            "\n",
            "also installing the dependency ‘snakecase’\n",
            "\n",
            "\n",
            "\n",
            "Attaching package: ‘dplyr’\n",
            "\n",
            "\n",
            "The following objects are masked from ‘package:stats’:\n",
            "\n",
            "    filter, lag\n",
            "\n",
            "\n",
            "The following objects are masked from ‘package:base’:\n",
            "\n",
            "    intersect, setdiff, setequal, union\n",
            "\n",
            "\n",
            "Warning message in system(\"timedatectl\", intern = TRUE):\n",
            "“running command 'timedatectl' had status 1”\n",
            "\n",
            "Attaching package: ‘janitor’\n",
            "\n",
            "\n",
            "The following objects are masked from ‘package:stats’:\n",
            "\n",
            "    chisq.test, fisher.test\n",
            "\n",
            "\n"
          ]
        }
      ]
    },
    {
      "cell_type": "markdown",
      "source": [
        "Download data from Gapminder and save it locally"
      ],
      "metadata": {
        "id": "Q0wUZNn4jU0r"
      }
    },
    {
      "cell_type": "code",
      "source": [
        "dir.create(\"data/input\", recursive = TRUE)\n",
        "download.file('https://www.gapminder.org/documentation/documentation/gapdata010.xls', paste0('data/input/',date,'_gapminder_data.xls'))"
      ],
      "metadata": {
        "id": "FRaVbFxFjV0T"
      },
      "execution_count": null,
      "outputs": []
    },
    {
      "cell_type": "markdown",
      "source": [
        "Read in the Gapminder data"
      ],
      "metadata": {
        "id": "qnLhIaD3kaWu"
      }
    },
    {
      "cell_type": "code",
      "source": [
        "\n",
        "df <- read_xls(paste0('data/input/',date,'_gapminder_data.xls'), col_names = TRUE)\n",
        "df <- df[-(1:16),]\n",
        "head(df)"
      ],
      "metadata": {
        "colab": {
          "base_uri": "https://localhost:8080/",
          "height": 1000
        },
        "id": "eVvnAbngjfgy",
        "outputId": "1a8f7206-1bf1-471a-fde3-0f37fba03e9a"
      },
      "execution_count": null,
      "outputs": [
        {
          "output_type": "stream",
          "name": "stderr",
          "text": [
            "Warning message:\n",
            "“Expecting logical in M1150 / R1150C13: got 'repro.age 15-45'”\n",
            "Warning message:\n",
            "“Expecting logical in M1151 / R1151C13: got 'repro.age 15-45'”\n",
            "Warning message:\n",
            "“Expecting logical in M1152 / R1152C13: got 'repro.age 15-45'”\n",
            "Warning message:\n",
            "“Expecting logical in M1153 / R1153C13: got 'repro.age 15-45'”\n",
            "Warning message:\n",
            "“Expecting logical in M1154 / R1154C13: got 'repro.age 15-45'”\n",
            "Warning message:\n",
            "“Expecting logical in M1155 / R1155C13: got 'repro.age 15-45'”\n",
            "Warning message:\n",
            "“Expecting logical in M1156 / R1156C13: got 'repro.age 15-45'”\n",
            "Warning message:\n",
            "“Expecting logical in M1157 / R1157C13: got 'repro.age 15-45'”\n",
            "Warning message:\n",
            "“Expecting logical in M1158 / R1158C13: got 'repro.age 15-45'”\n",
            "Warning message:\n",
            "“Expecting logical in M1159 / R1159C13: got 'repro.age 15-45'”\n",
            "Warning message:\n",
            "“Expecting logical in M1160 / R1160C13: got 'repro.age 15-45'”\n",
            "Warning message:\n",
            "“Expecting logical in M1161 / R1161C13: got 'repro.age 15-45'”\n",
            "Warning message:\n",
            "“Expecting logical in M1162 / R1162C13: got 'repro.age 15-45'”\n",
            "Warning message:\n",
            "“Expecting logical in M1163 / R1163C13: got 'repro.age 15-45'”\n",
            "Warning message:\n",
            "“Expecting logical in M1164 / R1164C13: got 'repro.age 15-45'”\n",
            "Warning message:\n",
            "“Expecting logical in M1165 / R1165C13: got 'repro.age 15-45'”\n",
            "Warning message:\n",
            "“Expecting logical in M1166 / R1166C13: got 'repro.age 15-45'”\n",
            "Warning message:\n",
            "“Expecting logical in M1167 / R1167C13: got 'repro.age 15-45'”\n",
            "Warning message:\n",
            "“Expecting logical in M1168 / R1168C13: got 'repro.age 15-45'”\n",
            "Warning message:\n",
            "“Expecting logical in M1169 / R1169C13: got 'repro.age 15-45'”\n",
            "Warning message:\n",
            "“Expecting logical in M1170 / R1170C13: got 'repro.age 15-45'”\n",
            "Warning message:\n",
            "“Expecting logical in M1171 / R1171C13: got 'repro.age 15-45'”\n",
            "Warning message:\n",
            "“Expecting logical in M1172 / R1172C13: got 'repro.age 15-45'”\n",
            "Warning message:\n",
            "“Expecting logical in M1173 / R1173C13: got 'repro.age 15-45'”\n",
            "Warning message:\n",
            "“Expecting logical in M1174 / R1174C13: got 'repro.age 15-45'”\n",
            "Warning message:\n",
            "“Expecting logical in M1175 / R1175C13: got 'repro.age 15-45'”\n",
            "Warning message:\n",
            "“Expecting logical in M1176 / R1176C13: got 'repro.age 15-45'”\n",
            "Warning message:\n",
            "“Expecting logical in M1177 / R1177C13: got 'repro.age 15-45'”\n",
            "Warning message:\n",
            "“Expecting logical in M1178 / R1178C13: got 'repro.age 15-45'”\n",
            "Warning message:\n",
            "“Expecting logical in M1179 / R1179C13: got 'repro.age 15-45'”\n",
            "Warning message:\n",
            "“Expecting logical in M1180 / R1180C13: got 'repro.age 15-45'”\n",
            "Warning message:\n",
            "“Expecting logical in M1181 / R1181C13: got 'repro.age 15-45'”\n",
            "Warning message:\n",
            "“Expecting logical in M1182 / R1182C13: got 'repro.age 15-45'”\n",
            "Warning message:\n",
            "“Expecting logical in M1183 / R1183C13: got 'repro.age 15-45'”\n",
            "Warning message:\n",
            "“Expecting logical in M1184 / R1184C13: got 'repro.age 15-45'”\n",
            "Warning message:\n",
            "“Expecting logical in M1185 / R1185C13: got 'repro.age 15-45'”\n",
            "Warning message:\n",
            "“Expecting logical in M1186 / R1186C13: got 'repro.age 15-45'”\n",
            "Warning message:\n",
            "“Expecting logical in M1187 / R1187C13: got 'repro.age 15-45'”\n",
            "Warning message:\n",
            "“Expecting logical in M1188 / R1188C13: got 'repro.age 15-45'”\n",
            "Warning message:\n",
            "“Expecting logical in M1189 / R1189C13: got 'repro.age 15-45'”\n",
            "Warning message:\n",
            "“Expecting logical in M1190 / R1190C13: got 'repro.age 15-45'”\n",
            "Warning message:\n",
            "“Expecting logical in M1191 / R1191C13: got 'repro.age 15-45'”\n",
            "Warning message:\n",
            "“Expecting logical in M1192 / R1192C13: got 'repro.age 15-45'”\n",
            "Warning message:\n",
            "“Expecting logical in M1193 / R1193C13: got 'repro.age 15-45'”\n",
            "Warning message:\n",
            "“Expecting logical in M1194 / R1194C13: got 'repro.age 15-45'”\n",
            "Warning message:\n",
            "“Expecting logical in M1195 / R1195C13: got 'repro.age 15-45'”\n",
            "Warning message:\n",
            "“Expecting logical in M1196 / R1196C13: got 'repro.age 15-45'”\n",
            "Warning message:\n",
            "“Expecting logical in M1197 / R1197C13: got 'repro.age 15-45'”\n",
            "Warning message:\n",
            "“Expecting logical in M1198 / R1198C13: got 'repro.age 15-45'”\n",
            "Warning message:\n",
            "“Expecting logical in M1199 / R1199C13: got 'repro.age 15-45'”\n",
            "Warning message:\n",
            "“Expecting logical in M1200 / R1200C13: got 'data an reroductive age for period 15-49'”\n",
            "\u001b[1m\u001b[22mNew names:\n",
            "\u001b[36m•\u001b[39m `` -> `...8`\n"
          ]
        },
        {
          "output_type": "display_data",
          "data": {
            "text/html": [
              "<table class=\"dataframe\">\n",
              "<caption>A tibble: 6 × 13</caption>\n",
              "<thead>\n",
              "\t<tr><th scope=col>Country</th><th scope=col>year</th><th scope=col>MMR</th><th scope=col>Live Births</th><th scope=col>Maternal deaths</th><th scope=col>Women reproductive age (15-49)</th><th scope=col>MM-rate</th><th scope=col>...8</th><th scope=col>Skilled attendance %</th><th scope=col>Source MMR, maternal death and Live birth</th><th scope=col>Comment</th><th scope=col>Source women reproductive age</th><th scope=col>Comments</th></tr>\n",
              "\t<tr><th scope=col>&lt;chr&gt;</th><th scope=col>&lt;chr&gt;</th><th scope=col>&lt;chr&gt;</th><th scope=col>&lt;chr&gt;</th><th scope=col>&lt;chr&gt;</th><th scope=col>&lt;dbl&gt;</th><th scope=col>&lt;dbl&gt;</th><th scope=col>&lt;lgl&gt;</th><th scope=col>&lt;dbl&gt;</th><th scope=col>&lt;chr&gt;</th><th scope=col>&lt;chr&gt;</th><th scope=col>&lt;chr&gt;</th><th scope=col>&lt;lgl&gt;</th></tr>\n",
              "</thead>\n",
              "<tbody>\n",
              "\t<tr><td>Australia</td><td>1871-1980</td><td>643               </td><td>NA    </td><td>NA </td><td>    NA</td><td>NA</td><td>NA</td><td>NA</td><td>Loudon, Death in Childbirth,1992                                                                                                                                      </td><td>only State of Virginia</td><td>NA                                                                                                           </td><td>NA</td></tr>\n",
              "\t<tr><td>Australia</td><td>1881-1990</td><td>592               </td><td>NA    </td><td>NA </td><td>    NA</td><td>NA</td><td>NA</td><td>NA</td><td>Loudon, Death in Childbirth, 1992                                                                                                                                     </td><td>only State of Virginia</td><td>NA                                                                                                           </td><td>NA</td></tr>\n",
              "\t<tr><td>Australia</td><td>1891-1900</td><td>560               </td><td>NA    </td><td>NA </td><td>    NA</td><td>NA</td><td>NA</td><td>NA</td><td>Loudon, Death in Childbirth, 1992                                                                                                                                     </td><td>only State of Virginia</td><td>NA                                                                                                           </td><td>NA</td></tr>\n",
              "\t<tr><td>Australia</td><td>1901-5   </td><td>609               </td><td>NA    </td><td>NA </td><td>940332</td><td> 0</td><td>NA</td><td>NA</td><td>Loudon, Death in Childbirth, 1992                                                                                                                                     </td><td>only State of Virginia</td><td>Mitchell, B. International Historical Statistics. Europe 1750-2000. Fifth Edition, Palgrave, Maximillan, 2003</td><td>NA</td></tr>\n",
              "\t<tr><td>Australia</td><td>1906     </td><td>538               </td><td>107890</td><td>NA </td><td>    NA</td><td>NA</td><td>NA</td><td>NA</td><td>Loudon, Death in Childbirth, 1992                                                                                                                                     </td><td>only State of Virginia</td><td>NA                                                                                                           </td><td>NA</td></tr>\n",
              "\t<tr><td>Australia</td><td>1907     </td><td>556.42654535238842</td><td>110347</td><td>614</td><td>    NA</td><td>NA</td><td>NA</td><td>NA</td><td>MD: Australian Institute of Health and Welfare (AIHW) LB and women reproductive age http://www.abs.gov.au/AUSSTATS/abs@.nsf/DetailsPage/3105.0.65.0012006?OpenDocument</td><td>NA                    </td><td>NA                                                                                                           </td><td>NA</td></tr>\n",
              "</tbody>\n",
              "</table>\n"
            ],
            "text/markdown": "\nA tibble: 6 × 13\n\n| Country &lt;chr&gt; | year &lt;chr&gt; | MMR &lt;chr&gt; | Live Births &lt;chr&gt; | Maternal deaths &lt;chr&gt; | Women reproductive age (15-49) &lt;dbl&gt; | MM-rate &lt;dbl&gt; | ...8 &lt;lgl&gt; | Skilled attendance % &lt;dbl&gt; | Source MMR, maternal death and Live birth &lt;chr&gt; | Comment &lt;chr&gt; | Source women reproductive age &lt;chr&gt; | Comments &lt;lgl&gt; |\n|---|---|---|---|---|---|---|---|---|---|---|---|---|\n| Australia | 1871-1980 | 643                | NA     | NA  |     NA | NA | NA | NA | Loudon, Death in Childbirth,1992                                                                                                                                       | only State of Virginia | NA                                                                                                            | NA |\n| Australia | 1881-1990 | 592                | NA     | NA  |     NA | NA | NA | NA | Loudon, Death in Childbirth, 1992                                                                                                                                      | only State of Virginia | NA                                                                                                            | NA |\n| Australia | 1891-1900 | 560                | NA     | NA  |     NA | NA | NA | NA | Loudon, Death in Childbirth, 1992                                                                                                                                      | only State of Virginia | NA                                                                                                            | NA |\n| Australia | 1901-5    | 609                | NA     | NA  | 940332 |  0 | NA | NA | Loudon, Death in Childbirth, 1992                                                                                                                                      | only State of Virginia | Mitchell, B. International Historical Statistics. Europe 1750-2000. Fifth Edition, Palgrave, Maximillan, 2003 | NA |\n| Australia | 1906      | 538                | 107890 | NA  |     NA | NA | NA | NA | Loudon, Death in Childbirth, 1992                                                                                                                                      | only State of Virginia | NA                                                                                                            | NA |\n| Australia | 1907      | 556.42654535238842 | 110347 | 614 |     NA | NA | NA | NA | MD: Australian Institute of Health and Welfare (AIHW) LB and women reproductive age http://www.abs.gov.au/AUSSTATS/abs@.nsf/DetailsPage/3105.0.65.0012006?OpenDocument | NA                     | NA                                                                                                            | NA |\n\n",
            "text/latex": "A tibble: 6 × 13\n\\begin{tabular}{lllllllllllll}\n Country & year & MMR & Live Births & Maternal deaths & Women reproductive age (15-49) & MM-rate & ...8 & Skilled attendance \\% & Source MMR, maternal death and Live birth & Comment & Source women reproductive age & Comments\\\\\n <chr> & <chr> & <chr> & <chr> & <chr> & <dbl> & <dbl> & <lgl> & <dbl> & <chr> & <chr> & <chr> & <lgl>\\\\\n\\hline\n\t Australia & 1871-1980 & 643                & NA     & NA  &     NA & NA & NA & NA & Loudon, Death in Childbirth,1992                                                                                                                                       & only State of Virginia & NA                                                                                                            & NA\\\\\n\t Australia & 1881-1990 & 592                & NA     & NA  &     NA & NA & NA & NA & Loudon, Death in Childbirth, 1992                                                                                                                                      & only State of Virginia & NA                                                                                                            & NA\\\\\n\t Australia & 1891-1900 & 560                & NA     & NA  &     NA & NA & NA & NA & Loudon, Death in Childbirth, 1992                                                                                                                                      & only State of Virginia & NA                                                                                                            & NA\\\\\n\t Australia & 1901-5    & 609                & NA     & NA  & 940332 &  0 & NA & NA & Loudon, Death in Childbirth, 1992                                                                                                                                      & only State of Virginia & Mitchell, B. International Historical Statistics. Europe 1750-2000. Fifth Edition, Palgrave, Maximillan, 2003 & NA\\\\\n\t Australia & 1906      & 538                & 107890 & NA  &     NA & NA & NA & NA & Loudon, Death in Childbirth, 1992                                                                                                                                      & only State of Virginia & NA                                                                                                            & NA\\\\\n\t Australia & 1907      & 556.42654535238842 & 110347 & 614 &     NA & NA & NA & NA & MD: Australian Institute of Health and Welfare (AIHW) LB and women reproductive age http://www.abs.gov.au/AUSSTATS/abs@.nsf/DetailsPage/3105.0.65.0012006?OpenDocument & NA                     & NA                                                                                                            & NA\\\\\n\\end{tabular}\n",
            "text/plain": [
              "  Country   year      MMR                Live Births Maternal deaths\n",
              "1 Australia 1871-1980 643                NA          NA             \n",
              "2 Australia 1881-1990 592                NA          NA             \n",
              "3 Australia 1891-1900 560                NA          NA             \n",
              "4 Australia 1901-5    609                NA          NA             \n",
              "5 Australia 1906      538                107890      NA             \n",
              "6 Australia 1907      556.42654535238842 110347      614            \n",
              "  Women reproductive age (15-49) MM-rate ...8 Skilled attendance %\n",
              "1     NA                         NA      NA   NA                  \n",
              "2     NA                         NA      NA   NA                  \n",
              "3     NA                         NA      NA   NA                  \n",
              "4 940332                          0      NA   NA                  \n",
              "5     NA                         NA      NA   NA                  \n",
              "6     NA                         NA      NA   NA                  \n",
              "  Source MMR, maternal death and Live birth                                                                                                                             \n",
              "1 Loudon, Death in Childbirth,1992                                                                                                                                      \n",
              "2 Loudon, Death in Childbirth, 1992                                                                                                                                     \n",
              "3 Loudon, Death in Childbirth, 1992                                                                                                                                     \n",
              "4 Loudon, Death in Childbirth, 1992                                                                                                                                     \n",
              "5 Loudon, Death in Childbirth, 1992                                                                                                                                     \n",
              "6 MD: Australian Institute of Health and Welfare (AIHW) LB and women reproductive age http://www.abs.gov.au/AUSSTATS/abs@.nsf/DetailsPage/3105.0.65.0012006?OpenDocument\n",
              "  Comment               \n",
              "1 only State of Virginia\n",
              "2 only State of Virginia\n",
              "3 only State of Virginia\n",
              "4 only State of Virginia\n",
              "5 only State of Virginia\n",
              "6 NA                    \n",
              "  Source women reproductive age                                                                                \n",
              "1 NA                                                                                                           \n",
              "2 NA                                                                                                           \n",
              "3 NA                                                                                                           \n",
              "4 Mitchell, B. International Historical Statistics. Europe 1750-2000. Fifth Edition, Palgrave, Maximillan, 2003\n",
              "5 NA                                                                                                           \n",
              "6 NA                                                                                                           \n",
              "  Comments\n",
              "1 NA      \n",
              "2 NA      \n",
              "3 NA      \n",
              "4 NA      \n",
              "5 NA      \n",
              "6 NA      "
            ]
          },
          "metadata": {}
        }
      ]
    },
    {
      "cell_type": "markdown",
      "source": [
        "The first three year ranges seem to be wrong as in another source (https://docs.google.com/spreadsheets/u/0/d/14ZtQy9kd0pMRKWg_zKsTg3qKHoGtflj-Ekal9gIPZ4A/pub?gid=1#) they cover only 10 years rather than 110. I will replace them manually here with the middle of each decade, as is used in the other data from the same source.\n",
        "\n",
        "There are also two cases where the year for Finland has been entered wrongly three times, there are two 1772s, 1775s & 1967s, the second of each should be 1872, 1875 and 1967 respectively.\n",
        "\n",
        "There are also two errors for New Zealand, and one error for both Swecen and the US."
      ],
      "metadata": {
        "id": "hfCjq6qIivK_"
      }
    },
    {
      "cell_type": "code",
      "source": [
        "df$year[1:3] <- c(1875, 1885,1895)\n",
        "df['year'][df$year == '1772' & df$Country == 'Finland' & df$`Maternal deaths`== 487,] <- '1872'\n",
        "df['year'][df$year == '1775' & df$Country == 'Finland' & df$`Maternal deaths` == 629,] <- '1875'\n",
        "df['year'][df$year == '1967' & df$Country == 'Finland' & df$`Maternal deaths` == 77,] <- '1957'\n",
        "df['year'][df$year == '1967' & df$Country == 'Sweden' & df$`Maternal deaths` == 39,] <- '1957'\n",
        "df['year'][df$year == '1967' & df$Country == 'United States' & df$`Maternal deaths` == 1766.28,] <- '1957'\n",
        "df['year'][df$year =='1989-02'& df$Country == 'New Zealand',] <- '1889-02'\n",
        "#Dropping an erroneous row for NZ in 1950 - there are two values but the first is incorrect. You can using the maternal deaths and live births columns. \n",
        "df <- df[-which(df$year == '1950' & df$Country == 'New Zealand' & df$MMR == 90),]"
      ],
      "metadata": {
        "id": "cqruMA1Sit6g"
      },
      "execution_count": null,
      "outputs": []
    },
    {
      "cell_type": "markdown",
      "source": [
        "For some rows a range of years is given for a particular maternal mortality rate. We use this function to find the mid-value of years given."
      ],
      "metadata": {
        "id": "jXvMuMB5kklA"
      }
    },
    {
      "cell_type": "code",
      "source": [
        "mid_year <- function(year) {\n",
        "  if(grepl(\"-\", year)){\n",
        "    year_split <-  unlist(strsplit(year, split = \"-\"))\n",
        "    year_begin <- year_split[1]\n",
        "    year_end_len <- nchar(year_split[2])\n",
        "    year_end_pref <- 4 - year_end_len\n",
        "    \n",
        "    if (year_end_pref > 0) {\n",
        "      year_pref <- substr(year_begin, 1, year_end_pref)\n",
        "      year_end <- as.numeric(paste(c(year_pref, year_split[2]),collapse = \"\"))\n",
        "      year_out <- round(mean(c(as.numeric(year_begin), year_end)))\n",
        "    }else{\n",
        "      year_out <- round(mean(as.numeric(c(year_begin,year_split[2]))))\n",
        "    }\n",
        "  }else{\n",
        "    year_out <- year\n",
        "  }\n",
        "  \n",
        "  return(year_out)\n",
        "}\n",
        "year_out_all <- unlist(lapply(df$year, mid_year))\n",
        "df$mid_year <- as.numeric(year_out_all)"
      ],
      "metadata": {
        "id": "iXDaJ3wSklo_"
      },
      "execution_count": null,
      "outputs": []
    },
    {
      "cell_type": "markdown",
      "source": [
        "Let's check the mid-year estimates have worked as expected:"
      ],
      "metadata": {
        "id": "4BOcQMGEkpC1"
      }
    },
    {
      "cell_type": "code",
      "source": [
        "df %>% select(year, mid_year) %>% filter(grepl(\"-\",year)) %>% distinct()"
      ],
      "metadata": {
        "colab": {
          "base_uri": "https://localhost:8080/",
          "height": 1000
        },
        "id": "r-WoQr-Kkq7s",
        "outputId": "2b695619-795f-414d-d70b-8f915e01666f"
      },
      "execution_count": null,
      "outputs": [
        {
          "output_type": "display_data",
          "data": {
            "text/html": [
              "<table class=\"dataframe\">\n",
              "<caption>A tibble: 44 × 2</caption>\n",
              "<thead>\n",
              "\t<tr><th scope=col>year</th><th scope=col>mid_year</th></tr>\n",
              "\t<tr><th scope=col>&lt;chr&gt;</th><th scope=col>&lt;dbl&gt;</th></tr>\n",
              "</thead>\n",
              "<tbody>\n",
              "\t<tr><td>1901-5   </td><td>1903</td></tr>\n",
              "\t<tr><td>1856-60  </td><td>1858</td></tr>\n",
              "\t<tr><td>1871-80  </td><td>1876</td></tr>\n",
              "\t<tr><td>1881-90  </td><td>1886</td></tr>\n",
              "\t<tr><td>1891-1900</td><td>1896</td></tr>\n",
              "\t<tr><td>1876-1880</td><td>1878</td></tr>\n",
              "\t<tr><td>1881-1885</td><td>1883</td></tr>\n",
              "\t<tr><td>1886-1890</td><td>1888</td></tr>\n",
              "\t<tr><td>1891-1895</td><td>1893</td></tr>\n",
              "\t<tr><td>1896-1900</td><td>1898</td></tr>\n",
              "\t<tr><td>1901-1905</td><td>1903</td></tr>\n",
              "\t<tr><td>1872-6   </td><td>1874</td></tr>\n",
              "\t<tr><td>1873-7   </td><td>1875</td></tr>\n",
              "\t<tr><td>1874-8   </td><td>1876</td></tr>\n",
              "\t<tr><td>1875-9   </td><td>1877</td></tr>\n",
              "\t<tr><td>1876-80  </td><td>1878</td></tr>\n",
              "\t<tr><td>1877-81  </td><td>1879</td></tr>\n",
              "\t<tr><td>1878-82  </td><td>1880</td></tr>\n",
              "\t<tr><td>1879-83  </td><td>1881</td></tr>\n",
              "\t<tr><td>1880-4   </td><td>1882</td></tr>\n",
              "\t<tr><td>1881-5   </td><td>1883</td></tr>\n",
              "\t<tr><td>1882-6   </td><td>1884</td></tr>\n",
              "\t<tr><td>1883-7   </td><td>1885</td></tr>\n",
              "\t<tr><td>1884-8   </td><td>1886</td></tr>\n",
              "\t<tr><td>1885-9   </td><td>1887</td></tr>\n",
              "\t<tr><td>1886-90  </td><td>1888</td></tr>\n",
              "\t<tr><td>1887-91  </td><td>1889</td></tr>\n",
              "\t<tr><td>1888-92  </td><td>1890</td></tr>\n",
              "\t<tr><td>1889-93  </td><td>1891</td></tr>\n",
              "\t<tr><td>1890-4   </td><td>1892</td></tr>\n",
              "\t<tr><td>1891-5   </td><td>1893</td></tr>\n",
              "\t<tr><td>1892-6   </td><td>1894</td></tr>\n",
              "\t<tr><td>1893-7   </td><td>1895</td></tr>\n",
              "\t<tr><td>1894-8   </td><td>1896</td></tr>\n",
              "\t<tr><td>1897-01  </td><td>1849</td></tr>\n",
              "\t<tr><td>1889-02  </td><td>1846</td></tr>\n",
              "\t<tr><td>1899-03  </td><td>1851</td></tr>\n",
              "\t<tr><td>1900-4   </td><td>1902</td></tr>\n",
              "\t<tr><td>1902-6   </td><td>1904</td></tr>\n",
              "\t<tr><td>1903-7   </td><td>1905</td></tr>\n",
              "\t<tr><td>1904-8   </td><td>1906</td></tr>\n",
              "\t<tr><td>1906-9   </td><td>1908</td></tr>\n",
              "\t<tr><td>1906-10  </td><td>1908</td></tr>\n",
              "\t<tr><td>1907-11  </td><td>1909</td></tr>\n",
              "</tbody>\n",
              "</table>\n"
            ],
            "text/markdown": "\nA tibble: 44 × 2\n\n| year &lt;chr&gt; | mid_year &lt;dbl&gt; |\n|---|---|\n| 1901-5    | 1903 |\n| 1856-60   | 1858 |\n| 1871-80   | 1876 |\n| 1881-90   | 1886 |\n| 1891-1900 | 1896 |\n| 1876-1880 | 1878 |\n| 1881-1885 | 1883 |\n| 1886-1890 | 1888 |\n| 1891-1895 | 1893 |\n| 1896-1900 | 1898 |\n| 1901-1905 | 1903 |\n| 1872-6    | 1874 |\n| 1873-7    | 1875 |\n| 1874-8    | 1876 |\n| 1875-9    | 1877 |\n| 1876-80   | 1878 |\n| 1877-81   | 1879 |\n| 1878-82   | 1880 |\n| 1879-83   | 1881 |\n| 1880-4    | 1882 |\n| 1881-5    | 1883 |\n| 1882-6    | 1884 |\n| 1883-7    | 1885 |\n| 1884-8    | 1886 |\n| 1885-9    | 1887 |\n| 1886-90   | 1888 |\n| 1887-91   | 1889 |\n| 1888-92   | 1890 |\n| 1889-93   | 1891 |\n| 1890-4    | 1892 |\n| 1891-5    | 1893 |\n| 1892-6    | 1894 |\n| 1893-7    | 1895 |\n| 1894-8    | 1896 |\n| 1897-01   | 1849 |\n| 1889-02   | 1846 |\n| 1899-03   | 1851 |\n| 1900-4    | 1902 |\n| 1902-6    | 1904 |\n| 1903-7    | 1905 |\n| 1904-8    | 1906 |\n| 1906-9    | 1908 |\n| 1906-10   | 1908 |\n| 1907-11   | 1909 |\n\n",
            "text/latex": "A tibble: 44 × 2\n\\begin{tabular}{ll}\n year & mid\\_year\\\\\n <chr> & <dbl>\\\\\n\\hline\n\t 1901-5    & 1903\\\\\n\t 1856-60   & 1858\\\\\n\t 1871-80   & 1876\\\\\n\t 1881-90   & 1886\\\\\n\t 1891-1900 & 1896\\\\\n\t 1876-1880 & 1878\\\\\n\t 1881-1885 & 1883\\\\\n\t 1886-1890 & 1888\\\\\n\t 1891-1895 & 1893\\\\\n\t 1896-1900 & 1898\\\\\n\t 1901-1905 & 1903\\\\\n\t 1872-6    & 1874\\\\\n\t 1873-7    & 1875\\\\\n\t 1874-8    & 1876\\\\\n\t 1875-9    & 1877\\\\\n\t 1876-80   & 1878\\\\\n\t 1877-81   & 1879\\\\\n\t 1878-82   & 1880\\\\\n\t 1879-83   & 1881\\\\\n\t 1880-4    & 1882\\\\\n\t 1881-5    & 1883\\\\\n\t 1882-6    & 1884\\\\\n\t 1883-7    & 1885\\\\\n\t 1884-8    & 1886\\\\\n\t 1885-9    & 1887\\\\\n\t 1886-90   & 1888\\\\\n\t 1887-91   & 1889\\\\\n\t 1888-92   & 1890\\\\\n\t 1889-93   & 1891\\\\\n\t 1890-4    & 1892\\\\\n\t 1891-5    & 1893\\\\\n\t 1892-6    & 1894\\\\\n\t 1893-7    & 1895\\\\\n\t 1894-8    & 1896\\\\\n\t 1897-01   & 1849\\\\\n\t 1889-02   & 1846\\\\\n\t 1899-03   & 1851\\\\\n\t 1900-4    & 1902\\\\\n\t 1902-6    & 1904\\\\\n\t 1903-7    & 1905\\\\\n\t 1904-8    & 1906\\\\\n\t 1906-9    & 1908\\\\\n\t 1906-10   & 1908\\\\\n\t 1907-11   & 1909\\\\\n\\end{tabular}\n",
            "text/plain": [
              "   year      mid_year\n",
              "1  1901-5    1903    \n",
              "2  1856-60   1858    \n",
              "3  1871-80   1876    \n",
              "4  1881-90   1886    \n",
              "5  1891-1900 1896    \n",
              "6  1876-1880 1878    \n",
              "7  1881-1885 1883    \n",
              "8  1886-1890 1888    \n",
              "9  1891-1895 1893    \n",
              "10 1896-1900 1898    \n",
              "11 1901-1905 1903    \n",
              "12 1872-6    1874    \n",
              "13 1873-7    1875    \n",
              "14 1874-8    1876    \n",
              "15 1875-9    1877    \n",
              "16 1876-80   1878    \n",
              "17 1877-81   1879    \n",
              "18 1878-82   1880    \n",
              "19 1879-83   1881    \n",
              "20 1880-4    1882    \n",
              "21 1881-5    1883    \n",
              "22 1882-6    1884    \n",
              "23 1883-7    1885    \n",
              "24 1884-8    1886    \n",
              "25 1885-9    1887    \n",
              "26 1886-90   1888    \n",
              "27 1887-91   1889    \n",
              "28 1888-92   1890    \n",
              "29 1889-93   1891    \n",
              "30 1890-4    1892    \n",
              "31 1891-5    1893    \n",
              "32 1892-6    1894    \n",
              "33 1893-7    1895    \n",
              "34 1894-8    1896    \n",
              "35 1897-01   1849    \n",
              "36 1889-02   1846    \n",
              "37 1899-03   1851    \n",
              "38 1900-4    1902    \n",
              "39 1902-6    1904    \n",
              "40 1903-7    1905    \n",
              "41 1904-8    1906    \n",
              "42 1906-9    1908    \n",
              "43 1906-10   1908    \n",
              "44 1907-11   1909    "
            ]
          },
          "metadata": {}
        }
      ]
    },
    {
      "cell_type": "markdown",
      "source": [
        "Keeping only the columns we want to take forward."
      ],
      "metadata": {
        "id": "DYP4lDlQkyk3"
      }
    },
    {
      "cell_type": "code",
      "source": [
        "df <- df %>% \n",
        "  select(entity = Country, year = mid_year, maternal_mortality_rate = MMR)"
      ],
      "metadata": {
        "id": "xX_blco_kzHR"
      },
      "execution_count": null,
      "outputs": []
    }
  ]
}