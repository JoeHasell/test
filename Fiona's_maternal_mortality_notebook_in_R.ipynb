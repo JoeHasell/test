{
  "cells": [
    {
      "cell_type": "markdown",
      "metadata": {
        "colab_type": "text",
        "id": "view-in-github"
      },
      "source": [
        "<a href=\"https://colab.research.google.com/github/JoeHasell/test/blob/main/Fiona's_maternal_mortality_notebook_in_R.ipynb\" target=\"_parent\"><img src=\"https://colab.research.google.com/assets/colab-badge.svg\" alt=\"Open In Colab\"/></a>"
      ]
    },
    {
      "cell_type": "code",
      "execution_count": null,
      "metadata": {
        "collapsed": true,
        "id": "5aRk82G8awAH",
        "vscode": {
          "languageId": "r"
        }
      },
      "outputs": [],
      "source": [
        "#@title\n",
        "R.version.string\n",
        "\n",
        "print(installed.packages())"
      ]
    },
    {
      "cell_type": "code",
      "execution_count": null,
      "metadata": {
        "collapsed": true,
        "id": "uwwGw7LFbKuh",
        "vscode": {
          "languageId": "r"
        }
      },
      "outputs": [],
      "source": [
        "install.packages(\"janitor\") \n",
        "\n",
        "library(readxl)\n",
        "library(dplyr)\n",
        "library(janitor)\n",
        "library(tidyr)\n",
        "library(ggplot2)\n",
        "date <- Sys.Date()"
      ]
    },
    {
      "cell_type": "markdown",
      "metadata": {
        "id": "Q0wUZNn4jU0r"
      },
      "source": [
        "I'VE MADE A CHANGE HERE!\n",
        "\n",
        "Download data from Gapminder and save it locally"
      ]
    },
    {
      "cell_type": "code",
      "execution_count": null,
      "metadata": {
        "id": "FRaVbFxFjV0T",
        "vscode": {
          "languageId": "r"
        }
      },
      "outputs": [],
      "source": [
        "#@title\n",
        "dir.create(\"data/input\", recursive = TRUE)\n",
        "download.file('https://www.gapminder.org/documentation/documentation/gapdata010.xls', paste0('data/input/',date,'_gapminder_data.xls'))"
      ]
    },
    {
      "cell_type": "markdown",
      "metadata": {
        "id": "qnLhIaD3kaWu"
      },
      "source": [
        "Read in the Gapminder data"
      ]
    },
    {
      "cell_type": "code",
      "execution_count": null,
      "metadata": {
        "collapsed": true,
        "id": "eVvnAbngjfgy",
        "vscode": {
          "languageId": "r"
        }
      },
      "outputs": [],
      "source": [
        "\n",
        "df <- read_xls(paste0('data/input/',date,'_gapminder_data.xls'), col_names = TRUE)\n",
        "df <- df[-(1:16),]\n",
        "head(df)"
      ]
    },
    {
      "cell_type": "markdown",
      "metadata": {
        "id": "hfCjq6qIivK_"
      },
      "source": [
        "The first three year ranges seem to be wrong as in another source (https://docs.google.com/spreadsheets/u/0/d/14ZtQy9kd0pMRKWg_zKsTg3qKHoGtflj-Ekal9gIPZ4A/pub?gid=1#) they cover only 10 years rather than 110. I will replace them manually here with the middle of each decade, as is used in the other data from the same source.\n",
        "\n",
        "There are also two cases where the year for Finland has been entered wrongly three times, there are two 1772s, 1775s & 1967s, the second of each should be 1872, 1875 and 1967 respectively.\n",
        "\n",
        "There are also two errors for New Zealand, and one error for both Swecen and the US."
      ]
    },
    {
      "cell_type": "code",
      "execution_count": null,
      "metadata": {
        "id": "cqruMA1Sit6g",
        "vscode": {
          "languageId": "r"
        }
      },
      "outputs": [],
      "source": [
        "df$year[1:3] <- c(1875, 1885,1895)\n",
        "df['year'][df$year == '1772' & df$Country == 'Finland' & df$`Maternal deaths`== 487,] <- '1872'\n",
        "df['year'][df$year == '1775' & df$Country == 'Finland' & df$`Maternal deaths` == 629,] <- '1875'\n",
        "df['year'][df$year == '1967' & df$Country == 'Finland' & df$`Maternal deaths` == 77,] <- '1957'\n",
        "df['year'][df$year == '1967' & df$Country == 'Sweden' & df$`Maternal deaths` == 39,] <- '1957'\n",
        "df['year'][df$year == '1967' & df$Country == 'United States' & df$`Maternal deaths` == 1766.28,] <- '1957'\n",
        "df['year'][df$year =='1989-02'& df$Country == 'New Zealand',] <- '1889-02'\n",
        "#Dropping an erroneous row for NZ in 1950 - there are two values but the first is incorrect. You can using the maternal deaths and live births columns. \n",
        "df <- df[-which(df$year == '1950' & df$Country == 'New Zealand' & df$MMR == 90),]"
      ]
    },
    {
      "cell_type": "markdown",
      "metadata": {
        "id": "jXvMuMB5kklA"
      },
      "source": [
        "For some rows a range of years is given for a particular maternal mortality rate. We use this function to find the mid-value of years given."
      ]
    },
    {
      "cell_type": "code",
      "execution_count": null,
      "metadata": {
        "id": "iXDaJ3wSklo_",
        "vscode": {
          "languageId": "r"
        }
      },
      "outputs": [],
      "source": [
        "mid_year <- function(year) {\n",
        "  if(grepl(\"-\", year)){\n",
        "    year_split <-  unlist(strsplit(year, split = \"-\"))\n",
        "    year_begin <- year_split[1]\n",
        "    year_end_len <- nchar(year_split[2])\n",
        "    year_end_pref <- 4 - year_end_len\n",
        "    \n",
        "    if (year_end_pref > 0) {\n",
        "      year_pref <- substr(year_begin, 1, year_end_pref)\n",
        "      year_end <- as.numeric(paste(c(year_pref, year_split[2]),collapse = \"\"))\n",
        "      year_out <- round(mean(c(as.numeric(year_begin), year_end)))\n",
        "    }else{\n",
        "      year_out <- round(mean(as.numeric(c(year_begin,year_split[2]))))\n",
        "    }\n",
        "  }else{\n",
        "    year_out <- year\n",
        "  }\n",
        "  \n",
        "  return(year_out)\n",
        "}\n",
        "year_out_all <- unlist(lapply(df$year, mid_year))\n",
        "df$mid_year <- as.numeric(year_out_all)"
      ]
    },
    {
      "cell_type": "markdown",
      "metadata": {
        "id": "4BOcQMGEkpC1"
      },
      "source": [
        "Let's check the mid-year estimates have worked as expected:"
      ]
    },
    {
      "cell_type": "code",
      "execution_count": null,
      "metadata": {
        "collapsed": true,
        "id": "r-WoQr-Kkq7s",
        "vscode": {
          "languageId": "r"
        }
      },
      "outputs": [],
      "source": [
        "df %>% select(year, mid_year) %>% filter(grepl(\"-\",year)) %>% distinct()"
      ]
    },
    {
      "cell_type": "markdown",
      "metadata": {
        "id": "DYP4lDlQkyk3"
      },
      "source": [
        "Keeping only the columns we want to take forward."
      ]
    },
    {
      "cell_type": "code",
      "execution_count": null,
      "metadata": {
        "id": "xX_blco_kzHR",
        "vscode": {
          "languageId": "r"
        }
      },
      "outputs": [],
      "source": [
        "df <- df %>% \n",
        "  select(entity = Country, year = mid_year, maternal_mortality_rate = MMR)"
      ]
    }
  ],
  "metadata": {
    "colab": {
      "collapsed_sections": [],
      "include_colab_link": true,
      "name": "Fiona's maternal mortality notebook in R.ipynb",
      "provenance": []
    },
    "kernelspec": {
      "display_name": "R",
      "name": "ir"
    },
    "language_info": {
      "name": "R"
    }
  },
  "nbformat": 4,
  "nbformat_minor": 0
}
